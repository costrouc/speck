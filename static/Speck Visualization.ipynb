{
 "cells": [
  {
   "cell_type": "markdown",
   "metadata": {},
   "source": [
    "# IPython Notebook Molecular Visualization\n",
    "\n",
    "Find example xyz files using the google search `filetype:xyz`. For example `filetype:xyz dna` yeilds many results including [dna](https://raw.githubusercontent.com/sciapp/mogli/master/examples/dna.xyz)"
   ]
  },
  {
   "cell_type": "code",
   "execution_count": 18,
   "metadata": {
    "collapsed": false
   },
   "outputs": [
    {
     "data": {
      "text/html": [
       "<script>\n",
       "require.config({\n",
       "  paths: {\n",
       "      speck: 'https://finch.aves.io/static/speck.min'\n",
       "  }\n",
       "});\n",
       "requirejs(['speck'], function(){\n",
       "   console.log('Speck is loaded!');\n",
       "});\n",
       "</script>\n",
       "<structure-view lattice \n",
       "                bonds \n",
       "                src=\"https://raw.githubusercontent.com/sciapp/mogli/master/examples/dna.xyz\" \n",
       "                style=\"width: 100%; height: 800px;\">\n",
       "</structure-view>"
      ],
      "text/plain": [
       "<IPython.core.display.HTML object>"
      ]
     },
     "metadata": {},
     "output_type": "display_data"
    }
   ],
   "source": [
    "%%HTML\n",
    "<script>\n",
    "require.config({\n",
    "  paths: {\n",
    "      speck: 'https://finch.aves.io/static/speck.min'\n",
    "  }\n",
    "});\n",
    "requirejs(['speck'], function(){\n",
    "   console.log('Speck is loaded!');\n",
    "});\n",
    "</script>\n",
    "<structure-view lattice \n",
    "                bonds \n",
    "                src=\"https://raw.githubusercontent.com/sciapp/mogli/master/examples/dna.xyz\" \n",
    "                style=\"width: 100%; height: 800px;\">\n",
    "</structure-view>"
   ]
  },
  {
   "cell_type": "code",
   "execution_count": 6,
   "metadata": {
    "collapsed": false
   },
   "outputs": [],
   "source": [
    "# A python module that enable pymatgen visualization through 1 function call\n",
    "from IPython.core.display import HTML, Javascript\n",
    "\n",
    "Javascript(\"\"\"\n",
    "require.config({\n",
    "  paths: {\n",
    "      speck: 'https://finch.aves.io/static/speck.min'\n",
    "  }\n",
    "});\n",
    "\"\"\")\n",
    "\n",
    "def display_structure(s, bonds=True, lattice=True, width=\"100%\", height=\"400px\"):\n",
    "    \"\"\" Displays pymatgen structure using speck.js. \n",
    "    \n",
    "    Width parameter should not be changed (probably) because canvas is always square \n",
    "    (enforced) and the limiting dimension is height.\n",
    "    \"\"\"\n",
    "    import uuid\n",
    "    l = s.lattice.matrix\n",
    "    l.shape = (9,)\n",
    "    unique_id = str(uuid.uuid4())\n",
    "    src = \"\"\"\n",
    "<structure-view %s %s style=\"width: %s; height: %s;\" id=\"%s\"></structure-view> \n",
    "<script>\n",
    "requirejs(['speck'], function(){\n",
    "   var structure = document.getElementById(\"%s\");\n",
    "   structure.loadStructure({\n",
    "       lattice: [%s],\n",
    "       atoms: [%s]\n",
    "   });\n",
    "});\n",
    "</script>\n",
    "\"\"\" % ('bonds' if bonds else '',\n",
    "       'lattice' if lattice else '',\n",
    "       width, height,\n",
    "       unique_id, unique_id,\n",
    "       ','.join(map(str, l)), \n",
    "       ','.join(['{symbol: \"%s\", position: [%s]}' % (a.specie.symbol, ','.join(map(str, a.coords))) for a in s]))\n",
    "    return HTML(src)"
   ]
  },
  {
   "cell_type": "code",
   "execution_count": 20,
   "metadata": {
    "collapsed": true
   },
   "outputs": [],
   "source": [
    "from pymatgen import Structure, Lattice\n",
    "gold = Structure(Lattice.from_lengths_and_angles((4.0, 4.0, 4.0), (90.0, 90.0, 90.0)),\n",
    "         ['Au', 'Au', 'Au', 'Au'],\n",
    "         [[0, 0, 0], [0.5, 0.5, 0.0], [0.0, 0.5, 0.5], [0.5, 0.0, 0.5]])\n",
    "gold *= (2, 2, 2)"
   ]
  },
  {
   "cell_type": "code",
   "execution_count": 21,
   "metadata": {
    "collapsed": false
   },
   "outputs": [
    {
     "data": {
      "text/html": [
       "\n",
       "<structure-view bonds  style=\"width: 100%; height: 600px;\" id=\"6dc7fea8-58dd-4f35-a7a7-c96886656da9\"></structure-view> \n",
       "<script>\n",
       "requirejs(['speck'], function(){\n",
       "   var structure = document.getElementById(\"6dc7fea8-58dd-4f35-a7a7-c96886656da9\");\n",
       "   structure.loadStructure({\n",
       "       lattice: [8.0,0.0,4.89858719659e-16,1.28649811974e-15,8.0,4.89858719659e-16,0.0,0.0,8.0],\n",
       "       atoms: [{symbol: \"Au\", position: [0.0,0.0,0.0]},{symbol: \"Au\", position: [0.0,0.0,4.0]},{symbol: \"Au\", position: [6.43249059871e-16,4.0,2.44929359829e-16]},{symbol: \"Au\", position: [6.43249059871e-16,4.0,4.0]},{symbol: \"Au\", position: [4.0,0.0,2.44929359829e-16]},{symbol: \"Au\", position: [4.0,0.0,4.0]},{symbol: \"Au\", position: [4.0,4.0,4.89858719659e-16]},{symbol: \"Au\", position: [4.0,4.0,4.0]},{symbol: \"Au\", position: [2.0,2.0,2.44929359829e-16]},{symbol: \"Au\", position: [2.0,2.0,4.0]},{symbol: \"Au\", position: [2.0,6.0,4.89858719659e-16]},{symbol: \"Au\", position: [2.0,6.0,4.0]},{symbol: \"Au\", position: [6.0,2.0,4.89858719659e-16]},{symbol: \"Au\", position: [6.0,2.0,4.0]},{symbol: \"Au\", position: [6.0,6.0,8.0]},{symbol: \"Au\", position: [6.0,6.0,4.0]},{symbol: \"Au\", position: [3.21624529935e-16,2.0,2.0]},{symbol: \"Au\", position: [3.21624529935e-16,2.0,6.0]},{symbol: \"Au\", position: [9.64873589806e-16,6.0,2.0]},{symbol: \"Au\", position: [9.64873589806e-16,6.0,6.0]},{symbol: \"Au\", position: [4.0,2.0,2.0]},{symbol: \"Au\", position: [4.0,2.0,6.0]},{symbol: \"Au\", position: [4.0,6.0,2.0]},{symbol: \"Au\", position: [4.0,6.0,6.0]},{symbol: \"Au\", position: [2.0,0.0,2.0]},{symbol: \"Au\", position: [2.0,0.0,6.0]},{symbol: \"Au\", position: [2.0,4.0,2.0]},{symbol: \"Au\", position: [2.0,4.0,6.0]},{symbol: \"Au\", position: [6.0,0.0,2.0]},{symbol: \"Au\", position: [6.0,0.0,6.0]},{symbol: \"Au\", position: [6.0,4.0,2.0]},{symbol: \"Au\", position: [6.0,4.0,6.0]}]\n",
       "   });\n",
       "});\n",
       "</script>\n"
      ],
      "text/plain": [
       "<IPython.core.display.HTML object>"
      ]
     },
     "execution_count": 21,
     "metadata": {},
     "output_type": "execute_result"
    }
   ],
   "source": [
    "display_structure(gold, lattice=False, bonds=True, height=\"600px\")"
   ]
  },
  {
   "cell_type": "code",
   "execution_count": 22,
   "metadata": {
    "collapsed": true
   },
   "outputs": [],
   "source": [
    "gold.perturb(2.0)"
   ]
  },
  {
   "cell_type": "code",
   "execution_count": 23,
   "metadata": {
    "collapsed": false
   },
   "outputs": [
    {
     "data": {
      "text/html": [
       "\n",
       "<structure-view bonds  style=\"width: 100%; height: 600px;\" id=\"6a2c5d0e-a691-489f-a288-da5ff91c03e2\"></structure-view> \n",
       "<script>\n",
       "requirejs(['speck'], function(){\n",
       "   var structure = document.getElementById(\"6a2c5d0e-a691-489f-a288-da5ff91c03e2\");\n",
       "   structure.loadStructure({\n",
       "       lattice: [8.0,0.0,4.89858719659e-16,1.28649811974e-15,8.0,4.89858719659e-16,0.0,0.0,8.0],\n",
       "       atoms: [{symbol: \"Au\", position: [6.76246294375,7.3977915847,6.54884630072]},{symbol: \"Au\", position: [1.96804264416,0.354219363821,4.03656218093]},{symbol: \"Au\", position: [1.4717246539,5.28487086689,7.57205911797]},{symbol: \"Au\", position: [0.562704214168,5.86293070934,3.53863990252]},{symbol: \"Au\", position: [4.62925429388,7.18658916783,1.71534307115]},{symbol: \"Au\", position: [4.69971650635,6.61862146729,2.7342234952]},{symbol: \"Au\", position: [4.62739643937,3.67558981747,6.12886886047]},{symbol: \"Au\", position: [4.99729631454,5.18593098506,2.73549703058]},{symbol: \"Au\", position: [3.88102127635,1.64685691836,7.41944085418]},{symbol: \"Au\", position: [2.42520704849,3.91537529552,3.61200973823]},{symbol: \"Au\", position: [2.57876609822,7.88787148539,0.317759434494]},{symbol: \"Au\", position: [2.87218783783,6.12673843453,2.20466556186]},{symbol: \"Au\", position: [5.95084245813,0.0861115950008,0.578458908901]},{symbol: \"Au\", position: [6.80486572464,0.63368137426,2.78124466021]},{symbol: \"Au\", position: [7.30992438536,7.4243320525,0.505347710835]},{symbol: \"Au\", position: [6.25490856043,6.19130165407,2.02555696386]},{symbol: \"Au\", position: [7.14668805808,3.64140719711,1.23997293268]},{symbol: \"Au\", position: [6.41230834254,1.29373326683,5.00983713337]},{symbol: \"Au\", position: [6.4512687601,6.15182289441,0.743663518283]},{symbol: \"Au\", position: [6.41557380331,6.40028957029,7.15297956928]},{symbol: \"Au\", position: [2.70592985638,3.43296449369,2.52153161285]},{symbol: \"Au\", position: [3.5318053481,1.82344365606,7.93639397473]},{symbol: \"Au\", position: [2.26799441305,6.88626269977,2.46335199771]},{symbol: \"Au\", position: [3.47926267778,5.82103525669,4.07729246584]},{symbol: \"Au\", position: [0.149856544934,0.633826055568,2.4186092772]},{symbol: \"Au\", position: [3.32780625375,6.60743019055,5.45439952502]},{symbol: \"Au\", position: [0.0358809743882,3.68960899045,2.21422855651]},{symbol: \"Au\", position: [0.626419838768,5.42727808183,6.27596162377]},{symbol: \"Au\", position: [7.08596366967,6.44663554013,1.36145339797]},{symbol: \"Au\", position: [4.66452372853,0.207164265682,7.47430868388]},{symbol: \"Au\", position: [7.18928877262,2.45599930612,2.44905909703]},{symbol: \"Au\", position: [6.12455415433,2.38951727797,4.8206647361]}]\n",
       "   });\n",
       "});\n",
       "</script>\n"
      ],
      "text/plain": [
       "<IPython.core.display.HTML object>"
      ]
     },
     "execution_count": 23,
     "metadata": {},
     "output_type": "execute_result"
    }
   ],
   "source": [
    "display_structure(gold, lattice=False, bonds=True, height=\"600px\")"
   ]
  },
  {
   "cell_type": "code",
   "execution_count": 22,
   "metadata": {
    "collapsed": true
   },
   "outputs": [],
   "source": [
    "from mattoolkit.io.icsd import ICSD"
   ]
  },
  {
   "cell_type": "code",
   "execution_count": 23,
   "metadata": {
    "collapsed": true
   },
   "outputs": [],
   "source": [
    "crystal = ICSD.find_one(icsd_id=14242)"
   ]
  },
  {
   "cell_type": "code",
   "execution_count": 24,
   "metadata": {
    "collapsed": false
   },
   "outputs": [
    {
     "data": {
      "text/plain": [
       "Structure Summary\n",
       "Lattice\n",
       "    abc : 7.1344245794597914 7.1344245794597905 7.1344245794597905\n",
       " angles : 59.999999999999993 60.000000000000007 59.999999999999993\n",
       " volume : 256.78039103078407\n",
       "      A : -5.0448000000000013 -5.0448000000000004 0.0\n",
       "      B : -5.0448000000000004 0.0 -5.0448000000000004\n",
       "      C : -8.8817841970012523e-16 -5.0448000000000004 -5.0448000000000004\n",
       "PeriodicSite: O2- (-3.7836, -3.7836, -3.7836) [0.3750, 0.3750, 0.3750]\n",
       "PeriodicSite: O2- (-6.3060, -6.3060, -6.3060) [0.6250, 0.6250, 0.6250]\n",
       "PeriodicSite: O2- (-6.3060, -6.3060, -3.3175) [0.9212, 0.3288, 0.3288]\n",
       "PeriodicSite: O2- (-6.3060, -6.3060, -9.2945) [0.3288, 0.9212, 0.9212]\n",
       "PeriodicSite: O2- (-6.3060, -3.3175, -6.3060) [0.3288, 0.9212, 0.3288]\n",
       "PeriodicSite: O2- (-6.3060, -9.2945, -6.3060) [0.9212, 0.3288, 0.9212]\n",
       "PeriodicSite: O2- (-3.3175, -6.3060, -6.3060) [0.3288, 0.3288, 0.9212]\n",
       "PeriodicSite: O2- (-9.2945, -6.3060, -6.3060) [0.9212, 0.9212, 0.3288]\n",
       "PeriodicSite: O2- (-3.7836, -3.7836, -6.7721) [0.0788, 0.6712, 0.6712]\n",
       "PeriodicSite: O2- (-3.7836, -3.7836, -0.7951) [0.6712, 0.0788, 0.0788]\n",
       "PeriodicSite: O2- (-3.7836, -6.7721, -3.7836) [0.6712, 0.0788, 0.6712]\n",
       "PeriodicSite: O2- (-3.7836, -0.7951, -3.7836) [0.0788, 0.6712, 0.0788]\n",
       "PeriodicSite: O2- (-6.7721, -3.7836, -3.7836) [0.6712, 0.6712, 0.0788]\n",
       "PeriodicSite: O2- (-0.7951, -3.7836, -3.7836) [0.0788, 0.0788, 0.6712]\n",
       "PeriodicSite: Ti4+ (-5.0448, -2.5224, -7.5672) [0.0000, 1.0000, 0.5000]\n",
       "PeriodicSite: Ti4+ (-2.5224, -0.0000, -2.5224) [0.0000, 0.5000, 0.0000]\n",
       "PeriodicSite: Ti4+ (-2.5224, -2.5224, 0.0000) [0.5000, 0.0000, 0.0000]\n",
       "PeriodicSite: Ti4+ (0.0000, 0.0000, 0.0000) [0.0000, 0.0000, 0.0000]\n",
       "PeriodicSite: Y3+ (-5.0448, -2.5224, -2.5224) [0.5000, 0.5000, 0.0000]\n",
       "PeriodicSite: Y3+ (-7.5672, -5.0448, -7.5672) [0.5000, 1.0000, 0.5000]\n",
       "PeriodicSite: Y3+ (-2.5224, -2.5224, -5.0448) [0.0000, 0.5000, 0.5000]\n",
       "PeriodicSite: Y3+ (-5.0448, -5.0448, -5.0448) [0.5000, 0.5000, 0.5000]"
      ]
     },
     "execution_count": 24,
     "metadata": {},
     "output_type": "execute_result"
    }
   ],
   "source": [
    "crystal.structure"
   ]
  },
  {
   "cell_type": "code",
   "execution_count": 26,
   "metadata": {
    "collapsed": false
   },
   "outputs": [
    {
     "data": {
      "text/html": [
       "\n",
       "<structure-view bonds lattice style=\"width: 100%; height: 600px;\" id=\"d77fe825-6b92-4f2e-83e3-a8f1dfdb7b05\"></structure-view> \n",
       "<script>\n",
       "requirejs(['speck'], function(){\n",
       "   var structure = document.getElementById(\"d77fe825-6b92-4f2e-83e3-a8f1dfdb7b05\");\n",
       "   structure.loadStructure({\n",
       "       lattice: [-5.0448,-5.0448,0.0,-5.0448,0.0,-5.0448,-8.881784197e-16,-5.0448,-5.0448],\n",
       "       atoms: [{symbol: \"O\", position: [-3.7836,-3.7836,-3.7836]},{symbol: \"O\", position: [-6.306,-6.306,-6.306]},{symbol: \"O\", position: [-6.306,-6.306,-3.31746048]},{symbol: \"O\", position: [-6.306,-6.306,-9.29453952]},{symbol: \"O\", position: [-6.306,-3.31746048,-6.306]},{symbol: \"O\", position: [-6.306,-9.29453952,-6.306]},{symbol: \"O\", position: [-3.31746048,-6.306,-6.306]},{symbol: \"O\", position: [-9.29453952,-6.306,-6.306]},{symbol: \"O\", position: [-3.7836,-3.7836,-6.77213952]},{symbol: \"O\", position: [-3.7836,-3.7836,-0.79506048]},{symbol: \"O\", position: [-3.7836,-6.77213952,-3.7836]},{symbol: \"O\", position: [-3.7836,-0.79506048,-3.7836]},{symbol: \"O\", position: [-6.77213952,-3.7836,-3.7836]},{symbol: \"O\", position: [-0.79506048,-3.7836,-3.7836]},{symbol: \"Ti\", position: [-5.0448,-2.5224,-7.5672]},{symbol: \"Ti\", position: [-2.5224,-5.60085311463e-16,-2.5224]},{symbol: \"Ti\", position: [-2.5224,-2.5224,0.0]},{symbol: \"Ti\", position: [0.0,0.0,0.0]},{symbol: \"Y\", position: [-5.0448,-2.5224,-2.5224]},{symbol: \"Y\", position: [-7.5672,-5.0448,-7.5672]},{symbol: \"Y\", position: [-2.5224,-2.5224,-5.0448]},{symbol: \"Y\", position: [-5.0448,-5.0448,-5.0448]}]\n",
       "   });\n",
       "});\n",
       "</script>\n"
      ],
      "text/plain": [
       "<IPython.core.display.HTML object>"
      ]
     },
     "execution_count": 26,
     "metadata": {},
     "output_type": "execute_result"
    }
   ],
   "source": [
    "display_structure(crystal.structure, lattice=True, bonds=True, height=\"600px\")"
   ]
  },
  {
   "cell_type": "code",
   "execution_count": null,
   "metadata": {
    "collapsed": true
   },
   "outputs": [],
   "source": []
  }
 ],
 "metadata": {
  "kernelspec": {
   "display_name": "Python 3",
   "language": "python",
   "name": "python3"
  },
  "language_info": {
   "codemirror_mode": {
    "name": "ipython",
    "version": 3
   },
   "file_extension": ".py",
   "mimetype": "text/x-python",
   "name": "python",
   "nbconvert_exporter": "python",
   "pygments_lexer": "ipython3",
   "version": "3.5.2"
  }
 },
 "nbformat": 4,
 "nbformat_minor": 0
}
