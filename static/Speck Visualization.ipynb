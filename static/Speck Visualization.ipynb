{
 "cells": [
  {
   "cell_type": "markdown",
   "metadata": {},
   "source": [
    "# IPython Notebook Molecular Visualization\n",
    "\n",
    "Find example xyz files using the google search `filetype:xyz`. For example `filetype:xyz dna` yeilds many results including [dna](https://raw.githubusercontent.com/sciapp/mogli/master/examples/dna.xyz)"
   ]
  },
  {
   "cell_type": "code",
   "execution_count": 42,
   "metadata": {
    "collapsed": false
   },
   "outputs": [
    {
     "data": {
      "text/html": [
       "<script>\n",
       "require.config({\n",
       "  paths: {\n",
       "      speck: 'https://finch.aves.io/static/speck.min'\n",
       "  }\n",
       "});\n",
       "requirejs(['speck'], function(){\n",
       "   console.log('Speck is loaded!');\n",
       "});\n",
       "</script>\n",
       "<structure-view lattice \n",
       "                bonds \n",
       "                src=\"https://raw.githubusercontent.com/sciapp/mogli/master/examples/dna.xyz\" \n",
       "                style=\"width: 100%; height: 400px;\">\n",
       "</structure-view>"
      ],
      "text/plain": [
       "<IPython.core.display.HTML object>"
      ]
     },
     "metadata": {},
     "output_type": "display_data"
    }
   ],
   "source": [
    "%%HTML\n",
    "<script>\n",
    "require.config({\n",
    "  paths: {\n",
    "      speck: 'https://finch.aves.io/static/speck.min'\n",
    "  }\n",
    "});\n",
    "requirejs(['speck'], function(){\n",
    "   console.log('Speck is loaded!');\n",
    "});\n",
    "</script>\n",
    "<structure-view lattice \n",
    "                bonds \n",
    "                src=\"https://raw.githubusercontent.com/sciapp/mogli/master/examples/dna.xyz\" \n",
    "                style=\"width: 100%; height: 400px;\">\n",
    "</structure-view>"
   ]
  },
  {
   "cell_type": "code",
   "execution_count": 36,
   "metadata": {
    "collapsed": false
   },
   "outputs": [],
   "source": [
    "# A python module that enable pymatgen visualization through 1 function call\n",
    "from IPython.core.display import HTML, Javascript\n",
    "\n",
    "Javascript(\"\"\"\n",
    "require.config({\n",
    "  paths: {\n",
    "      speck: 'https://finch.aves.io/static/speck.min'\n",
    "  }\n",
    "});\n",
    "\"\"\")\n",
    "\n",
    "def display_structure(s, bonds=True, lattice=True, width=\"100%\", height=\"400px\"):\n",
    "    \"\"\" Displays pymatgen structure using speck.js. \n",
    "    \n",
    "    Width parameter should not be changed (probably) because canvas is always square \n",
    "    (enforced) and the limiting dimension is height.\n",
    "    \"\"\"\n",
    "    import uuid\n",
    "    l = s.lattice.matrix\n",
    "    l.shape = (9,)\n",
    "    unique_id = str(uuid.uuid4())\n",
    "    src = \"\"\"\n",
    "<structure-view %s %s style=\"width: %s; height: %s;\" id=\"%s\"></structure-view> \n",
    "<script>\n",
    "requirejs(['speck'], function(){\n",
    "   var structure = document.getElementById(\"%s\");\n",
    "   structure.loadStructure({\n",
    "       lattice: [%s],\n",
    "       atoms: [%s]\n",
    "   });\n",
    "});\n",
    "</script>\n",
    "\"\"\" % ('bonds' if bonds else '',\n",
    "       'lattice' if lattice else '',\n",
    "       width, height,\n",
    "       unique_id, unique_id,\n",
    "       ','.join(map(str, l)), \n",
    "       ','.join(['{symbol: \"%s\", position: [%s]}' % (a.specie.symbol, ','.join(map(str, a.coords))) for a in s]))\n",
    "    return HTML(src)"
   ]
  },
  {
   "cell_type": "code",
   "execution_count": 37,
   "metadata": {
    "collapsed": true
   },
   "outputs": [],
   "source": [
    "from pymatgen import Structure, Lattice\n",
    "gold = Structure(Lattice.from_lengths_and_angles((4.0, 4.0, 4.0), (90.0, 90.0, 90.0)),\n",
    "         ['Au', 'Au', 'Au', 'Au'],\n",
    "         [[0, 0, 0], [0.5, 0.5, 0.0], [0.0, 0.5, 0.5], [0.5, 0.0, 0.5]])\n",
    "gold *= (2, 2, 2)"
   ]
  },
  {
   "cell_type": "code",
   "execution_count": 39,
   "metadata": {
    "collapsed": false
   },
   "outputs": [
    {
     "data": {
      "text/html": [
       "\n",
       "<structure-view bonds  style=\"width: 100%; height: 200px;\" id=\"8513eb92-808c-4ff5-987f-169e1c003008\"></structure-view> \n",
       "<script>\n",
       "requirejs(['speck'], function(){\n",
       "   var structure = document.getElementById(\"8513eb92-808c-4ff5-987f-169e1c003008\");\n",
       "   structure.loadStructure({\n",
       "       lattice: [8.0,0.0,4.89858719659e-16,1.28649811974e-15,8.0,4.89858719659e-16,0.0,0.0,8.0],\n",
       "       atoms: [{symbol: \"Au\", position: [0.0,0.0,0.0]},{symbol: \"Au\", position: [0.0,0.0,4.0]},{symbol: \"Au\", position: [6.43249059871e-16,4.0,2.44929359829e-16]},{symbol: \"Au\", position: [6.43249059871e-16,4.0,4.0]},{symbol: \"Au\", position: [4.0,0.0,2.44929359829e-16]},{symbol: \"Au\", position: [4.0,0.0,4.0]},{symbol: \"Au\", position: [4.0,4.0,4.89858719659e-16]},{symbol: \"Au\", position: [4.0,4.0,4.0]},{symbol: \"Au\", position: [2.0,2.0,2.44929359829e-16]},{symbol: \"Au\", position: [2.0,2.0,4.0]},{symbol: \"Au\", position: [2.0,6.0,4.89858719659e-16]},{symbol: \"Au\", position: [2.0,6.0,4.0]},{symbol: \"Au\", position: [6.0,2.0,4.89858719659e-16]},{symbol: \"Au\", position: [6.0,2.0,4.0]},{symbol: \"Au\", position: [6.0,6.0,8.0]},{symbol: \"Au\", position: [6.0,6.0,4.0]},{symbol: \"Au\", position: [3.21624529935e-16,2.0,2.0]},{symbol: \"Au\", position: [3.21624529935e-16,2.0,6.0]},{symbol: \"Au\", position: [9.64873589806e-16,6.0,2.0]},{symbol: \"Au\", position: [9.64873589806e-16,6.0,6.0]},{symbol: \"Au\", position: [4.0,2.0,2.0]},{symbol: \"Au\", position: [4.0,2.0,6.0]},{symbol: \"Au\", position: [4.0,6.0,2.0]},{symbol: \"Au\", position: [4.0,6.0,6.0]},{symbol: \"Au\", position: [2.0,0.0,2.0]},{symbol: \"Au\", position: [2.0,0.0,6.0]},{symbol: \"Au\", position: [2.0,4.0,2.0]},{symbol: \"Au\", position: [2.0,4.0,6.0]},{symbol: \"Au\", position: [6.0,0.0,2.0]},{symbol: \"Au\", position: [6.0,0.0,6.0]},{symbol: \"Au\", position: [6.0,4.0,2.0]},{symbol: \"Au\", position: [6.0,4.0,6.0]}]\n",
       "   });\n",
       "});\n",
       "</script>\n"
      ],
      "text/plain": [
       "<IPython.core.display.HTML object>"
      ]
     },
     "execution_count": 39,
     "metadata": {},
     "output_type": "execute_result"
    }
   ],
   "source": [
    "display_structure(gold, lattice=False, bonds=True, height=\"200px\")"
   ]
  },
  {
   "cell_type": "code",
   "execution_count": null,
   "metadata": {
    "collapsed": true
   },
   "outputs": [],
   "source": []
  },
  {
   "cell_type": "code",
   "execution_count": null,
   "metadata": {
    "collapsed": true
   },
   "outputs": [],
   "source": []
  }
 ],
 "metadata": {
  "kernelspec": {
   "display_name": "Python 3",
   "language": "python",
   "name": "python3"
  },
  "language_info": {
   "codemirror_mode": {
    "name": "ipython",
    "version": 3
   },
   "file_extension": ".py",
   "mimetype": "text/x-python",
   "name": "python",
   "nbconvert_exporter": "python",
   "pygments_lexer": "ipython3",
   "version": "3.5.1+"
  }
 },
 "nbformat": 4,
 "nbformat_minor": 0
}
